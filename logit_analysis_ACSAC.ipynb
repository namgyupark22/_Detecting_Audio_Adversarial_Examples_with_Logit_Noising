{
 "cells": [
  {
   "cell_type": "code",
   "execution_count": 1,
   "metadata": {},
   "outputs": [],
   "source": [
    "import numpy as np\n",
    "import tensorflow as tf\n",
    "import argparse\n",
    "from shutil import copyfile\n",
    "import scipy.io.wavfile as wav\n",
    "import pandas as pd\n",
    "import struct\n",
    "import time\n",
    "import os\n",
    "import sys\n",
    "from collections import namedtuple\n",
    "sys.path.append(\"DeepSpeech\")\n",
    "\n",
    "try:\n",
    "    import pydub\n",
    "except:\n",
    "    print(\"pydub was not loaded, MP3 compression will not work\")\n",
    "\n",
    "# Okay, so this is ugly. We don't want DeepSpeech to crash.\n",
    "# So we're just going to monkeypatch TF and make some things a no-op.\n",
    "# Sue me.\n",
    "tf.load_op_library = lambda x: x\n",
    "tmp = os.path.exists\n",
    "os.path.exists = lambda x: True\n",
    "class Wrapper:\n",
    "    def __init__(self, d):\n",
    "        self.d = d\n",
    "    def __getattr__(self, x):\n",
    "        return self.d[x]\n",
    "class HereBeDragons:\n",
    "    d = {}\n",
    "    FLAGS = Wrapper(d)\n",
    "    def __getattr__(self, x):\n",
    "        return self.do_define\n",
    "    def do_define(self, k, v, *x):\n",
    "        self.d[k] = v\n",
    "tf.app.flags = HereBeDragons()\n",
    "import DeepSpeech\n",
    "os.path.exists = tmp\n",
    "\n",
    "# More monkey-patching, to stop the training coordinator setup\n",
    "DeepSpeech.TrainingCoordinator.__init__ = lambda x: None\n",
    "DeepSpeech.TrainingCoordinator.start = lambda x: None\n",
    "\n",
    "\n",
    "from util.text import ctc_label_dense_to_sparse\n",
    "from tf_logits import get_logits\n",
    "toks = \" abcdefghijklmnopqrstuvwxyz'-\""
   ]
  },
  {
   "cell_type": "code",
   "execution_count": 2,
   "metadata": {},
   "outputs": [],
   "source": [
    "class Logit:\n",
    "    def __init__(self, sess, max_audio_len, batch_size=1):\n",
    "        \n",
    "        self.sess = sess\n",
    "        self.max_audio_len = max_audio_len\n",
    "        \n",
    "        self.original = original = tf.Variable(np.zeros((batch_size,max_audio_len), dtype=np.float32), name='qq_original')\n",
    "        self.lengths = lengths = tf.Variable(np.zeros(batch_size, dtype=np.int32), name='qq_lengths') \n",
    "        pass_in = tf.clip_by_value(original, -2**15, 2**15-1)\n",
    "        \n",
    "        self.logits = logits = get_logits(pass_in, lengths)\n",
    "        saver = tf.train.Saver([x for x in tf.global_variables() if 'qq' not in x.name])\n",
    "        saver.restore(sess, \"models/session_dump\")\n",
    "        \n",
    "    def logit(self, audio, lengths):\n",
    "        sess=self.sess\n",
    "        sess.run(self.original.assign(np.array(audio)))\n",
    "        sess.run(self.lengths.assign((np.array(lengths)-1)//320))\n",
    "        \n",
    "        logits = sess.run(self.logits)\n",
    "        \n",
    "        return logits\n",
    "# the same logits framework as carlini used\n",
    "# https://github.com/carlini/audio_adversarial_examples\n",
    "# https://arxiv.org/abs/1801.01944"
   ]
  },
  {
   "cell_type": "markdown",
   "metadata": {},
   "source": [
    "### collected logit (save npy)"
   ]
  },
  {
   "cell_type": "code",
   "execution_count": 3,
   "metadata": {},
   "outputs": [
    {
     "name": "stdout",
     "output_type": "stream",
     "text": [
      "INFO:tensorflow:Restoring parameters from models/session_dump\n"
     ]
    }
   ],
   "source": [
    "inputs = []\n",
    "for i in range(50):\n",
    "     inputs.append(\"/ssd2/audio_adversarial_examples_dataset/final_threshold/benign_air/\" + str(i) + \".wav\")\n",
    "with tf.Session() as sess:\n",
    "    audios = []\n",
    "    lengths = []\n",
    "    \n",
    "    for i in range(len(inputs)):\n",
    "        fs, audio = wav.read(inputs[i])\n",
    "        audios.append(list(audio))\n",
    "        lengths.append(len(audio))\n",
    "    maxlen = max(map(len,audios)) \n",
    "    audios = np.array([x+[0]*(maxlen-len(x)) for x in audios])\n",
    "    \n",
    "    logit = Logit(sess, maxlen, batch_size=len(audios))\n",
    "    logits = logit.logit(audios,lengths)\n",
    "    "
   ]
  },
  {
   "cell_type": "code",
   "execution_count": 4,
   "metadata": {},
   "outputs": [
    {
     "data": {
      "text/plain": [
       "(257, 50, 29)"
      ]
     },
     "execution_count": 4,
     "metadata": {},
     "output_type": "execute_result"
    }
   ],
   "source": [
    "logits.shape"
   ]
  },
  {
   "cell_type": "code",
   "execution_count": 5,
   "metadata": {},
   "outputs": [],
   "source": [
    "r_logits = logits\n",
    "\n",
    "###we delete frot & back of audio because of eliminating silence part \n",
    "dummy = np.ones(shape=(50,29), dtype=float) * 1111\n",
    "dummy = np.expand_dims(dummy,axis=0)\n",
    "r_logits = np.concatenate((r_logits,dummy),axis=0)"
   ]
  },
  {
   "cell_type": "code",
   "execution_count": 6,
   "metadata": {},
   "outputs": [
    {
     "data": {
      "text/plain": [
       "(258, 50, 29)"
      ]
     },
     "execution_count": 6,
     "metadata": {},
     "output_type": "execute_result"
    }
   ],
   "source": [
    "r_logits.shape"
   ]
  },
  {
   "cell_type": "code",
   "execution_count": 7,
   "metadata": {},
   "outputs": [],
   "source": [
    "r_logits = np.transpose(r_logits,[1,0,2])\n",
    "r_logits = np.reshape(r_logits,(-1,29))\n",
    "rr_logits = r_logits"
   ]
  },
  {
   "cell_type": "code",
   "execution_count": 8,
   "metadata": {},
   "outputs": [
    {
     "data": {
      "text/plain": [
       "(12900, 29)"
      ]
     },
     "execution_count": 8,
     "metadata": {},
     "output_type": "execute_result"
    }
   ],
   "source": [
    "rr_logits.shape"
   ]
  },
  {
   "cell_type": "code",
   "execution_count": 9,
   "metadata": {},
   "outputs": [],
   "source": [
    "indx = []\n",
    "count = 0\n",
    "for i in rr_logits:\n",
    "    if i[0] == 1111:\n",
    "        indx.append(count)\n",
    "    count += 1\n",
    "### you can select the eliminating portion \n",
    "adv_indx = []\n",
    "for i in indx[:-1]:\n",
    "    #print(i)\n",
    "    for x in range(-50,20):\n",
    "        adv_indx.append(i+x)\n",
    "for y in range(-50,0):\n",
    "    adv_indx.append(indx[-1]+y)"
   ]
  },
  {
   "cell_type": "code",
   "execution_count": 11,
   "metadata": {},
   "outputs": [],
   "source": [
    "idx = np.ones(shape=(rr_logits.shape[0]))\n",
    "for k in adv_indx:\n",
    "    idx[k] = 0\n",
    "idx = idx == 1\n",
    "rr_logits = rr_logits[idx]"
   ]
  },
  {
   "cell_type": "code",
   "execution_count": 12,
   "metadata": {},
   "outputs": [
    {
     "data": {
      "text/plain": [
       "(9420, 29)"
      ]
     },
     "execution_count": 12,
     "metadata": {},
     "output_type": "execute_result"
    }
   ],
   "source": [
    "rr_logits.shape"
   ]
  },
  {
   "cell_type": "code",
   "execution_count": 13,
   "metadata": {},
   "outputs": [],
   "source": [
    "#np.save(\"/ssd2/attack/npy/final/p_ori.npy\",rr_logits)\n",
    "#save the logit as npy"
   ]
  },
  {
   "cell_type": "code",
   "execution_count": 14,
   "metadata": {},
   "outputs": [],
   "source": [
    "#if dataset is cacluated, then we calculate inversion probability"
   ]
  },
  {
   "cell_type": "code",
   "execution_count": 15,
   "metadata": {},
   "outputs": [],
   "source": [
    "path = \"/ssd2/attack/npy/final/\"\n",
    "ori = np.load(path + \"ori.npy\")\n",
    "p_ori= np.load(path + \"p_ori.npy\")\n",
    "adv = np.load(path + \"adv.npy\")\n",
    "p_adv = np.load(path + \"p_adv.npy\")"
   ]
  },
  {
   "cell_type": "code",
   "execution_count": 16,
   "metadata": {},
   "outputs": [],
   "source": [
    "adv_argmax = np.argmax(adv, axis=1)\n",
    "ori_argmax = np.argmax(ori, axis=1)\n",
    "p_ori_argmax = np.argmax(p_ori, axis=1)\n",
    "p_adv_argmax = np.argmax(p_adv, axis=1)"
   ]
  },
  {
   "cell_type": "code",
   "execution_count": 17,
   "metadata": {},
   "outputs": [],
   "source": [
    "adv_sort = np.sort(adv)\n",
    "ori_sort = np.sort(ori)\n",
    "p_adv_sort = np.sort(p_adv)\n",
    "p_ori_sort = np.sort(p_ori)\n"
   ]
  },
  {
   "cell_type": "code",
   "execution_count": 19,
   "metadata": {},
   "outputs": [],
   "source": [
    "for i in range(2,30):\n",
    "    adv_pair = adv_sort[:,[-1,-i]]\n",
    "    p_adv_pair = p_adv_sort[:,[-1,-i]]\n",
    "    ori_pair = ori_sort[:,[-1,-i]]\n",
    "    p_ori_pair = p_ori_sort[:,[-1,-i]]\n",
    "    globals()['adv_eval1{}'.format(i)] = adv_pair[:,0] - adv_pair[:,1]\n",
    "    globals()['p_adv_eval1{}'.format(i)] = p_adv_pair[:,0] - p_adv_pair[:,1] \n",
    "    globals()['ori_eval1{}'.format(i)] = ori_pair[:,0] - ori_pair[:,1]\n",
    "    globals()['p_ori_eval1{}'.format(i)] = p_ori_pair[:,0] - p_ori_pair[:,1]"
   ]
  },
  {
   "cell_type": "code",
   "execution_count": 21,
   "metadata": {},
   "outputs": [
    {
     "data": {
      "image/png": "[encoded data removed]",
      "text/plain": [
       "<Figure size 432x288 with 1 Axes>"
      ]
     },
     "metadata": {
      "needs_background": "light"
     },
     "output_type": "display_data"
    }
   ],
   "source": [
    "import matplotlib.pyplot as plt\n",
    "\n",
    "\n",
    "#plt.hist(p_adv_eval13, bins=100, density=True, alpha=0.6, histtype=\"step\")\n",
    "plt.hist(ori_eval12, bins=100, density=True, alpha=0.5, histtype='stepfilled')\n",
    "plt.hist(adv_eval12, bins=100, density=True, alpha=1, histtype=\"step\")\n",
    "plt.axis([0,30,0,0.175])\n",
    "#plt.hist(p_ori_eval12, bins=100, density=True, alpha=0.7, histtype=\"stepfilled\")\n",
    "plt.xlabel('logit gap')\n",
    "plt.ylabel('density')\n",
    "plt.legend(['benign','adv'])\n",
    "#plt.legend(['p_adv','ori','adv','p_ori'])\n",
    "plt.show()"
   ]
  },
  {
   "cell_type": "markdown",
   "metadata": {},
   "source": [
    "### 1-k inversion probaiblity"
   ]
  },
  {
   "cell_type": "code",
   "execution_count": null,
   "metadata": {},
   "outputs": [],
   "source": [
    "\n",
    "# import numpy as np\n",
    "# from scipy.stats import norm\n",
    "# def noise_effect(difference= 3, noise=3, sampling=26):\n",
    "#     total = 0\n",
    "#     s = np.random.normal(0,noise,sampling)\n",
    "#     for i in s:\n",
    "#         total += norm.cdf(i+difference,0,noise)\n",
    "#     return (1- total/sampling)\n",
    "\n",
    "# std_list = [0.1,0.5,1,1.5,2,2.5,3,3.2,3.5,4,4.5,5,5.5,6]    \n",
    "# for xx in range(2,30):\n",
    "#     globals()['adv_list{}'.format(xx)] = []\n",
    "#     globals()['p_adv_list{}'.format(xx)] = []\n",
    "#     globals()['ori_list{}'.format(xx)] = []\n",
    "#     globals()['p_ori_list{}'.format(xx)] = []\n",
    "    \n",
    "#     print(xx)\n",
    "#     for std in std_list:\n",
    "#         print(\"std:\",std)\n",
    "#         adv_sums = 0\n",
    "#         p_adv_sums = 0\n",
    "#         ori_sums = 0\n",
    "#         p_ori_sums = 0\n",
    "#         for x in globals()['adv_eval1{}'.format(xx)]:\n",
    "#             adv_sums += (1/len(globals()['adv_eval1{}'.format(xx)]))*noise_effect(x,std,29)\n",
    "#         print(adv_sums)\n",
    "#         for x in globals()['p_adv_eval1{}'.format(xx)]:\n",
    "#             p_adv_sums += (1/len(globals()['p_adv_eval1{}'.format(xx)]))*noise_effect(x,std,29)\n",
    "#         print(p_adv_sums)\n",
    "#         for x in globals()['ori_eval1{}'.format(xx)]:\n",
    "#             ori_sums += (1/len(globals()['ori_eval1{}'.format(xx)]))*noise_effect(x,std,29)\n",
    "#         print(ori_sums)\n",
    "#         for x in globals()['p_ori_eval1{}'.format(xx)]:\n",
    "#             p_ori_sums += (1/len(globals()['p_ori_eval1{}'.format(xx)]))*noise_effect(x,std,29)\n",
    "#         print(p_ori_sums)\n",
    "        \n",
    "#         globals()['adv_list{}'.format(xx)].append(adv_sums)\n",
    "#         globals()['p_adv_list{}'.format(xx)].append(p_adv_sums)\n",
    "#         globals()['ori_list{}'.format(xx)].append(ori_sums)\n",
    "#         globals()['p_ori_list{}'.format(xx)].append(p_ori_sums)"
   ]
  },
  {
   "cell_type": "code",
   "execution_count": null,
   "metadata": {},
   "outputs": [],
   "source": []
  }
 ],
 "metadata": {
  "kernelspec": {
   "display_name": "Python 3",
   "language": "python",
   "name": "python3"
  },
  "language_info": {
   "codemirror_mode": {
    "name": "ipython",
    "version": 3
   },
   "file_extension": ".py",
   "mimetype": "text/x-python",
   "name": "python",
   "nbconvert_exporter": "python",
   "pygments_lexer": "ipython3",
   "version": "3.5.2"
  }
 },
 "nbformat": 4,
 "nbformat_minor": 4
}
